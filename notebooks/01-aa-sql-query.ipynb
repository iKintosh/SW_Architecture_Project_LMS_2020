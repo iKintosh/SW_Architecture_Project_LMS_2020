{
 "cells": [
  {
   "cell_type": "code",
   "execution_count": 1,
   "metadata": {
    "collapsed": true,
    "pycharm": {
     "is_executing": false
    }
   },
   "outputs": [],
   "source": [
    "from LMS.model.models import User, Group, Student"
   ]
  },
  {
   "cell_type": "code",
   "execution_count": 22,
   "outputs": [],
   "source": [
    "users = User.query.join(Student).filter(User.id==2)\n",
    "\n"
   ],
   "metadata": {
    "collapsed": false,
    "pycharm": {
     "name": "#%%\n",
     "is_executing": false
    }
   }
  },
  {
   "cell_type": "code",
   "execution_count": 24,
   "outputs": [],
   "source": [
    "g = users.add_columns(Student.group_num, Student.is_pay).first().group_num"
   ],
   "metadata": {
    "collapsed": false,
    "pycharm": {
     "name": "#%%\n",
     "is_executing": false
    }
   }
  },
  {
   "cell_type": "code",
   "execution_count": 25,
   "outputs": [
    {
     "data": {
      "text/plain": "191"
     },
     "metadata": {},
     "output_type": "execute_result",
     "execution_count": 25
    }
   ],
   "source": [
    "g"
   ],
   "metadata": {
    "collapsed": false,
    "pycharm": {
     "name": "#%%\n",
     "is_executing": false
    }
   }
  },
  {
   "cell_type": "code",
   "execution_count": 31,
   "outputs": [],
   "source": [
    "group = Group.query.filter_by(num=g).first()"
   ],
   "metadata": {
    "collapsed": false,
    "pycharm": {
     "name": "#%%\n",
     "is_executing": false
    }
   }
  },
  {
   "cell_type": "code",
   "execution_count": 42,
   "outputs": [],
   "source": [
    "s = group.students.all()"
   ],
   "metadata": {
    "collapsed": false,
    "pycharm": {
     "name": "#%%\n",
     "is_executing": false
    }
   }
  },
  {
   "cell_type": "code",
   "execution_count": 44,
   "outputs": [
    {
     "data": {
      "text/plain": "[<Student 2, 191>, <Student 1, 191>]"
     },
     "metadata": {},
     "output_type": "execute_result",
     "execution_count": 44
    }
   ],
   "source": [
    "s"
   ],
   "metadata": {
    "collapsed": false,
    "pycharm": {
     "name": "#%%\n",
     "is_executing": false
    }
   }
  },
  {
   "cell_type": "code",
   "execution_count": 47,
   "outputs": [],
   "source": [
    "s = users.first()\n"
   ],
   "metadata": {
    "collapsed": false,
    "pycharm": {
     "name": "#%%\n",
     "is_executing": false
    }
   }
  },
  {
   "cell_type": "code",
   "execution_count": 48,
   "outputs": [
    {
     "data": {
      "text/plain": "{'_sa_instance_state': <sqlalchemy.orm.state.InstanceState at 0x1e79486ae88>,\n 'family_name': 'Turner',\n 'name': 'Alice',\n 'is_tutor': None,\n 'verification_code': 'alice12',\n 'email': 'alice_turner@lms.ru',\n '_User__phone': None,\n 'about_me': None,\n '_User__facebook_link': None,\n '_User__instagram_link': None,\n 'middle_name': 'Sergeevna',\n 'id': 2,\n 'is_moderator': None,\n 'is_registered': True,\n '_User__password_hash': 'pbkdf2:sha256:150000$F34J0A92$28d4ea9ddf890d1aaaebcc2317f76fc3e65a850330a63fd69eb86c35147f43f9',\n 'city': None,\n '_User__vk_link': None,\n '_User__linkedin_link': None}"
     },
     "metadata": {},
     "output_type": "execute_result",
     "execution_count": 48
    }
   ],
   "source": [
    "s.__dict__"
   ],
   "metadata": {
    "collapsed": false,
    "pycharm": {
     "name": "#%%\n",
     "is_executing": false
    }
   }
  },
  {
   "cell_type": "code",
   "execution_count": 54,
   "outputs": [
    {
     "name": "stdout",
     "text": [
      "{'__module__': 'LMS.model.models', 'id': <sqlalchemy.orm.attributes.InstrumentedAttribute object at 0x000001E78E613228>, 'name': <sqlalchemy.orm.attributes.InstrumentedAttribute object at 0x000001E78E6132E8>, 'family_name': <sqlalchemy.orm.attributes.InstrumentedAttribute object at 0x000001E78E6133A8>, 'middle_name': <sqlalchemy.orm.attributes.InstrumentedAttribute object at 0x000001E78E613468>, 'is_tutor': <sqlalchemy.orm.attributes.InstrumentedAttribute object at 0x000001E78E613528>, 'is_moderator': <sqlalchemy.orm.attributes.InstrumentedAttribute object at 0x000001E78E6135E8>, 'verification_code': <sqlalchemy.orm.attributes.InstrumentedAttribute object at 0x000001E78E6136A8>, 'is_registered': <sqlalchemy.orm.attributes.InstrumentedAttribute object at 0x000001E78E613768>, 'email': <sqlalchemy.orm.attributes.InstrumentedAttribute object at 0x000001E78E613828>, '_User__password_hash': <sqlalchemy.orm.attributes.InstrumentedAttribute object at 0x000001E78E6138E8>, 'password': <property object at 0x000001E78E5F16D8>, 'check_password': <function User.check_password at 0x000001E78E5EB168>, '_User__phone': <sqlalchemy.orm.attributes.InstrumentedAttribute object at 0x000001E78E6139A8>, 'phone': <property object at 0x000001E78E5F17C8>, 'city': <sqlalchemy.orm.attributes.InstrumentedAttribute object at 0x000001E78E613A68>, 'about_me': <sqlalchemy.orm.attributes.InstrumentedAttribute object at 0x000001E78E613B28>, '_User__vk_link': <sqlalchemy.orm.attributes.InstrumentedAttribute object at 0x000001E78E613BE8>, 'vk_link': <property object at 0x000001E78E5F19F8>, '_User__facebook_link': <sqlalchemy.orm.attributes.InstrumentedAttribute object at 0x000001E78E613CA8>, 'facebook_link': <property object at 0x000001E78E5F1AE8>, '_User__linkedin_link': <sqlalchemy.orm.attributes.InstrumentedAttribute object at 0x000001E78E613D68>, 'linkedin_link': <property object at 0x000001E78E5F1BD8>, '_User__instagram_link': <sqlalchemy.orm.attributes.InstrumentedAttribute object at 0x000001E78E613E28>, 'instagram_link': <property object at 0x000001E78E5F1CC8>, '__repr__': <function User.__repr__ at 0x000001E78E5EB828>, '__doc__': None, '__tablename__': 'user', '__table__': Table('user', MetaData(bind=None), Column('id', Integer(), table=<user>, primary_key=True, nullable=False), Column('name', String(), table=<user>, nullable=False), Column('family_name', String(), table=<user>, nullable=False), Column('middle_name', String(), table=<user>), Column('is_tutor', Boolean(), table=<user>), Column('is_moderator', Boolean(), table=<user>), Column('verification_code', String(), table=<user>, nullable=False), Column('is_registered', Boolean(), table=<user>, default=ColumnDefault(False)), Column('email', String(), table=<user>), Column('_User__password_hash', String(), table=<user>), Column('_User__phone', String(), table=<user>), Column('city', String(), table=<user>), Column('about_me', String(), table=<user>), Column('_User__vk_link', String(), table=<user>), Column('_User__facebook_link', String(), table=<user>), Column('_User__linkedin_link', String(), table=<user>), Column('_User__instagram_link', String(), table=<user>), schema=None), '_sa_class_manager': <ClassManager of <class 'LMS.model.models.User'> at 1e78e5d4ee8>, '__init__': <function __init__ at 0x000001E78E5EBCA8>, '__mapper__': <Mapper at 0x1e78e5f0a48; User>}\n"
     ],
     "output_type": "stream"
    }
   ],
   "source": [
    "print(User.__dict__)"
   ],
   "metadata": {
    "collapsed": false,
    "pycharm": {
     "name": "#%%\n",
     "is_executing": false
    }
   }
  },
  {
   "cell_type": "code",
   "execution_count": null,
   "outputs": [],
   "source": [
    "\n"
   ],
   "metadata": {
    "collapsed": false,
    "pycharm": {
     "name": "#%%\n"
    }
   }
  }
 ],
 "metadata": {
  "kernelspec": {
   "display_name": "Python 3",
   "language": "python",
   "name": "python3"
  },
  "language_info": {
   "codemirror_mode": {
    "name": "ipython",
    "version": 2
   },
   "file_extension": ".py",
   "mimetype": "text/x-python",
   "name": "python",
   "nbconvert_exporter": "python",
   "pygments_lexer": "ipython2",
   "version": "2.7.6"
  },
  "pycharm": {
   "stem_cell": {
    "cell_type": "raw",
    "source": [],
    "metadata": {
     "collapsed": false
    }
   }
  }
 },
 "nbformat": 4,
 "nbformat_minor": 0
}