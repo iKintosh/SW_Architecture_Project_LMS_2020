{
 "cells": [
  {
   "cell_type": "code",
   "execution_count": 1,
   "metadata": {
    "pycharm": {
     "is_executing": false
    }
   },
   "outputs": [],
   "source": [
    "import sqlalchemy as sql\n",
    "from sqlalchemy import create_engine\n",
    "from sqlalchemy.ext.declarative import declarative_base\n",
    "from sqlalchemy import Column, Integer, String, ForeignKey, Boolean, Date\n",
    "from sqlalchemy.orm import sessionmaker\n",
    "\n",
    "from LMS.db_tables_entity import *"
   ]
  },
  {
   "cell_type": "code",
   "execution_count": 2,
   "metadata": {
    "pycharm": {
     "is_executing": false
    }
   },
   "outputs": [],
   "source": [
    "engine = create_engine('postgresql://postgres:@192.168.99.100:54320/postgres', echo=True)\n",
    "Session = sessionmaker(bind=engine)\n",
    "session = Session()"
   ]
  },
  {
   "cell_type": "code",
   "execution_count": 3,
   "metadata": {
    "pycharm": {
     "is_executing": false
    }
   },
   "outputs": [],
   "source": [
    "Base = get_base_class()"
   ]
  },
  {
   "cell_type": "code",
   "execution_count": 4,
   "metadata": {},
   "outputs": [],
   "source": [
    "\n",
    "class User(Base):\n",
    "    __tablename__ = 'users'\n",
    "\n",
    "    id = Column(Integer, primary_key=True)\n",
    "    name = Column(String)\n",
    "    fullname = Column(String)\n",
    "    nickname = Column(String)\n",
    "    status = Column(String)\n",
    "\n",
    "    def __repr__(self):\n",
    "        return \"<User(name='%s', fullname='%s', nickname='%s', status ='%s')>\" % (\n",
    "                             self.name, self.fullname, self.nickname, self.status)"
   ]
  },
  {
   "cell_type": "code",
   "execution_count": 5,
   "metadata": {},
   "outputs": [],
   "source": [
    "class Course(Base):\n",
    "    __tablename__ = 'courses'\n",
    "    \n",
    "    id = Column(Integer, primary_key=True)\n",
    "    name = Column(String)\n",
    "    description = Column(String)\n",
    "    \n",
    "    def __repr__(self):\n",
    "        return \"<User(name='%s', description='%s')>\" % (\n",
    "                             self.name, self.description)"
   ]
  },
  {
   "cell_type": "code",
   "execution_count": 6,
   "metadata": {},
   "outputs": [],
   "source": [
    "class Student(Base):\n",
    "    __tablename__ = 'students'\n",
    "    \n",
    "    id = Column(Integer, ForeignKey('User.id'), primary_key=True)\n",
    "    group_num = Column(Integer, ForeignKey('Group.num'))\n",
    "    pay_flg = Column(Boolean)\n",
    "    \n",
    "    def __repr__(self):\n",
    "        return \"<User(name='%s', group_number='%d')>\" % (\n",
    "                             User.name, self.group_num)"
   ]
  },
  {
   "cell_type": "code",
   "execution_count": 7,
   "metadata": {},
   "outputs": [],
   "source": [
    "class Group(Base):\n",
    "    __tablename__ = 'groups'\n",
    "    \n",
    "    num = Column(Integer, primary_key=True)\n",
    "    degree = Column(String)\n",
    "    grade = Column(Integer)\n",
    "    def __repr__(self):\n",
    "        return \"<User(num='%d', degree='%s', grade='%d')>\" % (\n",
    "                             self.num, self.degree, self.grade)"
   ]
  },
  {
   "cell_type": "code",
   "execution_count": 8,
   "metadata": {},
   "outputs": [],
   "source": [
    "class Material(Base):\n",
    "    __tablename__ = 'materials'\n",
    "    \n",
    "    id = Column(Integer, ForeignKey('User.id'), primary_key=True)\n",
    "    name = Column(String)\n",
    "    text = Column(String)\n",
    "    date = Column(Date)\n",
    "    course_id = Column(Integer, ForeignKey('Course.id'))\n",
    "    \n",
    "    \n",
    "    def __repr__(self):\n",
    "        return \"<User(name='%s', name='%s', 'text'='%s')>\" % (\n",
    "                             self.name, self.name, self.text)"
   ]
  },
  {
   "cell_type": "code",
   "execution_count": 5,
   "metadata": {
    "pycharm": {
     "is_executing": false
    }
   },
   "outputs": [
    {
     "name": "stdout",
     "text": [
      "2020-01-11 02:07:55,625 INFO sqlalchemy.engine.base.Engine select relname from pg_class c join pg_namespace n on n.oid=c.relnamespace where pg_catalog.pg_table_is_visible(c.oid) and relname=%(name)s\n",
      "2020-01-11 02:07:55,626 INFO sqlalchemy.engine.base.Engine {'name': 'users'}\n",
      "2020-01-11 02:07:55,629 INFO sqlalchemy.engine.base.Engine select relname from pg_class c join pg_namespace n on n.oid=c.relnamespace where pg_catalog.pg_table_is_visible(c.oid) and relname=%(name)s\n",
      "2020-01-11 02:07:55,630 INFO sqlalchemy.engine.base.Engine {'name': 'courses'}\n",
      "2020-01-11 02:07:55,633 INFO sqlalchemy.engine.base.Engine select relname from pg_class c join pg_namespace n on n.oid=c.relnamespace where pg_catalog.pg_table_is_visible(c.oid) and relname=%(name)s\n",
      "2020-01-11 02:07:55,635 INFO sqlalchemy.engine.base.Engine {'name': 'groups'}\n",
      "2020-01-11 02:07:55,638 INFO sqlalchemy.engine.base.Engine select relname from pg_class c join pg_namespace n on n.oid=c.relnamespace where pg_catalog.pg_table_is_visible(c.oid) and relname=%(name)s\n",
      "2020-01-11 02:07:55,639 INFO sqlalchemy.engine.base.Engine {'name': 'students'}\n",
      "2020-01-11 02:07:55,641 INFO sqlalchemy.engine.base.Engine select relname from pg_class c join pg_namespace n on n.oid=c.relnamespace where pg_catalog.pg_table_is_visible(c.oid) and relname=%(name)s\n",
      "2020-01-11 02:07:55,642 INFO sqlalchemy.engine.base.Engine {'name': 'materials'}\n",
      "2020-01-11 02:07:55,645 INFO sqlalchemy.engine.base.Engine select relname from pg_class c join pg_namespace n on n.oid=c.relnamespace where pg_catalog.pg_table_is_visible(c.oid) and relname=%(name)s\n",
      "2020-01-11 02:07:55,646 INFO sqlalchemy.engine.base.Engine {'name': 'homeworks'}\n",
      "2020-01-11 02:07:55,648 INFO sqlalchemy.engine.base.Engine select relname from pg_class c join pg_namespace n on n.oid=c.relnamespace where pg_catalog.pg_table_is_visible(c.oid) and relname=%(name)s\n",
      "2020-01-11 02:07:55,649 INFO sqlalchemy.engine.base.Engine {'name': 'answers'}\n",
      "2020-01-11 02:07:55,653 INFO sqlalchemy.engine.base.Engine \n",
      "CREATE TABLE users (\n",
      "\tid SERIAL NOT NULL, \n",
      "\tname VARCHAR, \n",
      "\tfamily_name VARCHAR, \n",
      "\tstatus VARCHAR, \n",
      "\tverification_code VARCHAR, \n",
      "\temail VARCHAR, \n",
      "\tphone VARCHAR, \n",
      "\tPRIMARY KEY (id)\n",
      ")\n",
      "\n",
      "\n",
      "2020-01-11 02:07:55,655 INFO sqlalchemy.engine.base.Engine {}\n",
      "2020-01-11 02:07:55,661 INFO sqlalchemy.engine.base.Engine COMMIT\n"
     ],
     "output_type": "stream"
    }
   ],
   "source": [
    "Base.metadata.create_all(engine)"
   ]
  },
  {
   "cell_type": "code",
   "execution_count": 10,
   "metadata": {},
   "outputs": [],
   "source": [
    "ed_user = User(id = 1, name='ed', fullname='Ed Jones', nickname='edsnickname', status = 'Student')"
   ]
  },
  {
   "cell_type": "code",
   "execution_count": 11,
   "metadata": {},
   "outputs": [],
   "source": [
    "test_student = Student(id = 1, group_num = 536, pay_flg = 1)"
   ]
  },
  {
   "cell_type": "code",
   "execution_count": 12,
   "metadata": {},
   "outputs": [
    {
     "data": {
      "text/plain": [
       "<User(name='User.name', group_number='536')>"
      ]
     },
     "execution_count": 12,
     "metadata": {},
     "output_type": "execute_result"
    }
   ],
   "source": [
    "test_student"
   ]
  },
  {
   "cell_type": "code",
   "execution_count": 14,
   "metadata": {},
   "outputs": [],
   "source": [
    "session.add(ed_user)\n",
    "session.add(test_student)"
   ]
  },
  {
   "cell_type": "code",
   "execution_count": null,
   "metadata": {},
   "outputs": [],
   "source": [
    "session.commit()"
   ]
  },
  {
   "cell_type": "code",
   "execution_count": null,
   "metadata": {},
   "outputs": [],
   "source": [
    "session.new"
   ]
  },
  {
   "cell_type": "code",
   "execution_count": null,
   "metadata": {},
   "outputs": [],
   "source": [
    "User.__table__.drop(engine)"
   ]
  },
  {
   "cell_type": "code",
   "execution_count": null,
   "metadata": {},
   "outputs": [],
   "source": []
  }
 ],
 "metadata": {
  "kernelspec": {
   "display_name": "Python 3",
   "language": "python",
   "name": "python3"
  },
  "language_info": {
   "codemirror_mode": {
    "name": "ipython",
    "version": 3
   },
   "file_extension": ".py",
   "mimetype": "text/x-python",
   "name": "python",
   "nbconvert_exporter": "python",
   "pygments_lexer": "ipython3",
   "version": "3.7.4"
  },
  "pycharm": {
   "stem_cell": {
    "cell_type": "raw",
    "source": [],
    "metadata": {
     "collapsed": false
    }
   }
  }
 },
 "nbformat": 4,
 "nbformat_minor": 2
}