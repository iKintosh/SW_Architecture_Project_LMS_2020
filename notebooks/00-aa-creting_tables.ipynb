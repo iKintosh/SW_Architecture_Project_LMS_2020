{
 "cells": [
  {
   "cell_type": "code",
   "execution_count": 2,
   "metadata": {
    "pycharm": {
     "is_executing": false
    }
   },
   "outputs": [],
   "source": [
    "import sqlalchemy as sql\n",
    "from sqlalchemy import create_engine\n",
    "from sqlalchemy.ext.declarative import declarative_base\n",
    "from sqlalchemy import Column, Integer, String, ForeignKey, Boolean, Date\n",
    "from sqlalchemy.orm import sessionmaker"
   ]
  },
  {
   "cell_type": "code",
   "execution_count": 2,
   "metadata": {},
   "outputs": [],
   "source": [
    "engine = create_engine('postgresql://postgres:@192.168.99.100:54320/postgres', echo=True)\n",
    "Session = sessionmaker(bind=engine)\n",
    "session = Session()"
   ]
  },
  {
   "cell_type": "code",
   "execution_count": 3,
   "metadata": {},
   "outputs": [],
   "source": [
    "Base = declarative_base()"
   ]
  },
  {
   "cell_type": "code",
   "execution_count": 4,
   "metadata": {},
   "outputs": [],
   "source": [
    "\n",
    "class User(Base):\n",
    "    __tablename__ = 'users'\n",
    "\n",
    "    id = Column(Integer, primary_key=True)\n",
    "    name = Column(String)\n",
    "    fullname = Column(String)\n",
    "    nickname = Column(String)\n",
    "    status = Column(String)\n",
    "\n",
    "    def __repr__(self):\n",
    "        return \"<User(name='%s', fullname='%s', nickname='%s', status ='%s')>\" % (\n",
    "                             self.name, self.fullname, self.nickname, self.status)"
   ]
  },
  {
   "cell_type": "code",
   "execution_count": 5,
   "metadata": {},
   "outputs": [],
   "source": [
    "class Course(Base):\n",
    "    __tablename__ = 'courses'\n",
    "    \n",
    "    id = Column(Integer, primary_key=True)\n",
    "    name = Column(String)\n",
    "    description = Column(String)\n",
    "    \n",
    "    def __repr__(self):\n",
    "        return \"<User(name='%s', description='%s')>\" % (\n",
    "                             self.name, self.descriptionription)"
   ]
  },
  {
   "cell_type": "code",
   "execution_count": 6,
   "metadata": {},
   "outputs": [],
   "source": [
    "class Student(Base):\n",
    "    __tablename__ = 'students'\n",
    "    \n",
    "    id = Column(Integer, ForeignKey('User.id'), primary_key=True)\n",
    "    group_num = Column(Integer, ForeignKey('Group.num'))\n",
    "    pay_flg = Column(Boolean)\n",
    "    \n",
    "    def __repr__(self):\n",
    "        return \"<User(name='%s', group_number='%d')>\" % (\n",
    "                             User.name, self.group_num)"
   ]
  },
  {
   "cell_type": "code",
   "execution_count": 7,
   "metadata": {},
   "outputs": [],
   "source": [
    "class Group(Base):\n",
    "    __tablename__ = 'groups'\n",
    "    \n",
    "    num = Column(Integer, primary_key=True)\n",
    "    degree = Column(String)\n",
    "    grade = Column(Integer)\n",
    "    def __repr__(self):\n",
    "        return \"<User(num='%d', degree='%s', grade='%d')>\" % (\n",
    "                             self.num, self.degree, self.grade)"
   ]
  },
  {
   "cell_type": "code",
   "execution_count": 8,
   "metadata": {},
   "outputs": [],
   "source": [
    "class Material(Base):\n",
    "    __tablename__ = 'materials'\n",
    "    \n",
    "    id = Column(Integer, ForeignKey('User.id'), primary_key=True)\n",
    "    name = Column(String)\n",
    "    text = Column(String)\n",
    "    date = Column(Date)\n",
    "    course_id = Column(Integer, ForeignKey('Course.id'))\n",
    "    \n",
    "    \n",
    "    def __repr__(self):\n",
    "        return \"<User(name='%s', name='%s', 'text'='%s')>\" % (\n",
    "                             self.name, self.name, self.text)"
   ]
  },
  {
   "cell_type": "code",
   "execution_count": 9,
   "metadata": {},
   "outputs": [
    {
     "name": "stdout",
     "output_type": "stream",
     "text": [
      "2020-01-10 21:26:37,381 INFO sqlalchemy.engine.base.Engine select version()\n",
      "2020-01-10 21:26:37,383 INFO sqlalchemy.engine.base.Engine {}\n",
      "2020-01-10 21:26:37,388 INFO sqlalchemy.engine.base.Engine select current_schema()\n",
      "2020-01-10 21:26:37,389 INFO sqlalchemy.engine.base.Engine {}\n",
      "2020-01-10 21:26:37,393 INFO sqlalchemy.engine.base.Engine SELECT CAST('test plain returns' AS VARCHAR(60)) AS anon_1\n",
      "2020-01-10 21:26:37,394 INFO sqlalchemy.engine.base.Engine {}\n",
      "2020-01-10 21:26:37,398 INFO sqlalchemy.engine.base.Engine SELECT CAST('test unicode returns' AS VARCHAR(60)) AS anon_1\n",
      "2020-01-10 21:26:37,399 INFO sqlalchemy.engine.base.Engine {}\n",
      "2020-01-10 21:26:37,403 INFO sqlalchemy.engine.base.Engine show standard_conforming_strings\n",
      "2020-01-10 21:26:37,404 INFO sqlalchemy.engine.base.Engine {}\n",
      "2020-01-10 21:26:37,411 INFO sqlalchemy.engine.base.Engine select relname from pg_class c join pg_namespace n on n.oid=c.relnamespace where pg_catalog.pg_table_is_visible(c.oid) and relname=%(name)s\n",
      "2020-01-10 21:26:37,414 INFO sqlalchemy.engine.base.Engine {'name': 'User'}\n",
      "2020-01-10 21:26:37,419 INFO sqlalchemy.engine.base.Engine select relname from pg_class c join pg_namespace n on n.oid=c.relnamespace where pg_catalog.pg_table_is_visible(c.oid) and relname=%(name)s\n",
      "2020-01-10 21:26:37,420 INFO sqlalchemy.engine.base.Engine {'name': 'Course'}\n",
      "2020-01-10 21:26:37,423 INFO sqlalchemy.engine.base.Engine select relname from pg_class c join pg_namespace n on n.oid=c.relnamespace where pg_catalog.pg_table_is_visible(c.oid) and relname=%(name)s\n",
      "2020-01-10 21:26:37,424 INFO sqlalchemy.engine.base.Engine {'name': 'Student'}\n",
      "2020-01-10 21:26:37,427 INFO sqlalchemy.engine.base.Engine select relname from pg_class c join pg_namespace n on n.oid=c.relnamespace where pg_catalog.pg_table_is_visible(c.oid) and relname=%(name)s\n",
      "2020-01-10 21:26:37,429 INFO sqlalchemy.engine.base.Engine {'name': 'Group'}\n",
      "2020-01-10 21:26:37,433 INFO sqlalchemy.engine.base.Engine select relname from pg_class c join pg_namespace n on n.oid=c.relnamespace where pg_catalog.pg_table_is_visible(c.oid) and relname=%(name)s\n",
      "2020-01-10 21:26:37,435 INFO sqlalchemy.engine.base.Engine {'name': 'Materials'}\n"
     ]
    }
   ],
   "source": [
    "Base.metadata.create_all(engine)"
   ]
  },
  {
   "cell_type": "code",
   "execution_count": 10,
   "metadata": {},
   "outputs": [],
   "source": [
    "ed_user = User(id = 1, name='ed', fullname='Ed Jones', nickname='edsnickname', status = 'Student')"
   ]
  },
  {
   "cell_type": "code",
   "execution_count": 11,
   "metadata": {},
   "outputs": [],
   "source": [
    "test_student = Student(id = 1, group_num = 536, pay_flg = 1)"
   ]
  },
  {
   "cell_type": "code",
   "execution_count": 12,
   "metadata": {},
   "outputs": [
    {
     "data": {
      "text/plain": [
       "<User(name='User.name', group_number='536')>"
      ]
     },
     "execution_count": 12,
     "metadata": {},
     "output_type": "execute_result"
    }
   ],
   "source": [
    "test_student"
   ]
  },
  {
   "cell_type": "code",
   "execution_count": 14,
   "metadata": {},
   "outputs": [],
   "source": [
    "session.add(ed_user)\n",
    "session.add(test_student)"
   ]
  },
  {
   "cell_type": "code",
   "execution_count": null,
   "metadata": {},
   "outputs": [],
   "source": [
    "session.commit()"
   ]
  },
  {
   "cell_type": "code",
   "execution_count": null,
   "metadata": {},
   "outputs": [],
   "source": [
    "session.new"
   ]
  },
  {
   "cell_type": "code",
   "execution_count": null,
   "metadata": {},
   "outputs": [],
   "source": [
    "User.__table__.drop(engine)"
   ]
  },
  {
   "cell_type": "code",
   "execution_count": null,
   "metadata": {},
   "outputs": [],
   "source": []
  }
 ],
 "metadata": {
  "kernelspec": {
   "display_name": "Python 3",
   "language": "python",
   "name": "python3"
  },
  "language_info": {
   "codemirror_mode": {
    "name": "ipython",
    "version": 3
   },
   "file_extension": ".py",
   "mimetype": "text/x-python",
   "name": "python",
   "nbconvert_exporter": "python",
   "pygments_lexer": "ipython3",
   "version": "3.7.4"
  }
 },
 "nbformat": 4,
 "nbformat_minor": 2
}